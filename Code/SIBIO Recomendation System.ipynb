{
 "cells": [
  {
   "cell_type": "code",
   "execution_count": 1,
   "metadata": {},
   "outputs": [],
   "source": [
    "import pandas as pd\n",
    "import numpy as np\n",
    "from sklearn.metrics.pairwise import manhattan_distances"
   ]
  },
  {
   "cell_type": "code",
   "execution_count": 2,
   "metadata": {},
   "outputs": [],
   "source": [
    "beers_dict = {'Bohemia Oscura': 'Boh_Osc',\n",
    "              'Corona': 'Cor',\n",
    "              'Dos Equis Ambar': 'Dos_Equ_Amb',\n",
    "              'Dos Equis Laguer': 'Dos_Equ_Lag',\n",
    "              'Indio': 'Ind',\n",
    "              'Modelo Especial': 'Mod_Esp',\n",
    "              'Negra Modelo': 'Neg_Mod',\n",
    "              'Sol': 'Sol',\n",
    "              'Tecate Light': 'Tec_Lig',\n",
    "              'Victoria': 'Vic'}\n",
    "\n",
    "lager_dict = {'Pilsner': 'Pil',\n",
    "              #'Pale Lager': 'Pal_Lag',\n",
    "              'Amber Lager': 'Amb_Lag',\n",
    "              'Bock': 'Boc',\n",
    "              'Dark Lager': 'Dar_Lag'}\n",
    "\n",
    "ale_dict = {'Wheat Beer':'Whe_Bee',\n",
    "            'Pale Ale': 'Pal_Ale',\n",
    "            'Indian Pale Ale': 'Ind_Pal_Ale',\n",
    "            'Strong Ale': 'Str_Ale',\n",
    "            'Brown Ale': 'Bro_Ale',\n",
    "            'Stout': 'Sto'}\n",
    "\n",
    "answers_names_dict = {'Marca temporal': 'Date',\n",
    "                      'Califica del 1 (no me gusta) al 5 (me encanta) tu preferencia para las siguientes cervezas comerciales. Si para alguna cerveza no tienes una opinión, escoge SR. [Barrilito]': 'Bar',\n",
    "                      'Califica del 1 (no me gusta) al 5 (me encanta) tu preferencia para las siguientes cervezas comerciales. Si para alguna cerveza no tienes una opinión, escoge SR. [Bohemia Clara]': 'Boh_Cla',\n",
    "                      'Califica del 1 (no me gusta) al 5 (me encanta) tu preferencia para las siguientes cervezas comerciales. Si para alguna cerveza no tienes una opinión, escoge SR. [Bohemia Oscura]': 'Boh_Osc',\n",
    "                      'Califica del 1 (no me gusta) al 5 (me encanta) tu preferencia para las siguientes cervezas comerciales. Si para alguna cerveza no tienes una opinión, escoge SR. [Bud Light]': 'Bud_Lig',\n",
    "                      'Califica del 1 (no me gusta) al 5 (me encanta) tu preferencia para las siguientes cervezas comerciales. Si para alguna cerveza no tienes una opinión, escoge SR. [Corona]': 'Cor',\n",
    "                      'Califica del 1 (no me gusta) al 5 (me encanta) tu preferencia para las siguientes cervezas comerciales. Si para alguna cerveza no tienes una opinión, escoge SR. [Dos Equis Laguer]': 'Dos_Equ_Lag',\n",
    "                      'Califica del 1 (no me gusta) al 5 (me encanta) tu preferencia para las siguientes cervezas comerciales. Si para alguna cerveza no tienes una opinión, escoge SR. [Dos Equis Ambar]': 'Dos_Equ_Amb',\n",
    "                      'Califica del 1 (no me gusta) al 5 (me encanta) tu preferencia para las siguientes cervezas comerciales. Si para alguna cerveza no tienes una opinión, escoge SR. [Indio]': 'Ind',\n",
    "                      'Califica del 1 (no me gusta) al 5 (me encanta) tu preferencia para las siguientes cervezas comerciales. Si para alguna cerveza no tienes una opinión, escoge SR. [León]': 'Leo',\n",
    "                      'Califica del 1 (no me gusta) al 5 (me encanta) tu preferencia para las siguientes cervezas comerciales. Si para alguna cerveza no tienes una opinión, escoge SR. [Modelo Especial]': 'Mod_Esp',\n",
    "                      'Califica del 1 (no me gusta) al 5 (me encanta) tu preferencia para las siguientes cervezas comerciales. Si para alguna cerveza no tienes una opinión, escoge SR. [Montejo]': 'Mon',\n",
    "                      'Califica del 1 (no me gusta) al 5 (me encanta) tu preferencia para las siguientes cervezas comerciales. Si para alguna cerveza no tienes una opinión, escoge SR. [Negra Modelo]': 'Neg_Mod',\n",
    "                      'Califica del 1 (no me gusta) al 5 (me encanta) tu preferencia para las siguientes cervezas comerciales. Si para alguna cerveza no tienes una opinión, escoge SR. [Pacífico]': 'Pac',\n",
    "                      'Califica del 1 (no me gusta) al 5 (me encanta) tu preferencia para las siguientes cervezas comerciales. Si para alguna cerveza no tienes una opinión, escoge SR. [Sol]': 'Sol',\n",
    "                      'Califica del 1 (no me gusta) al 5 (me encanta) tu preferencia para las siguientes cervezas comerciales. Si para alguna cerveza no tienes una opinión, escoge SR. [Tecate Roja]': 'Tec_Roj',\n",
    "                      'Califica del 1 (no me gusta) al 5 (me encanta) tu preferencia para las siguientes cervezas comerciales. Si para alguna cerveza no tienes una opinión, escoge SR. [Tecate Light]': 'Tec_Lig',\n",
    "                      'Califica del 1 (no me gusta) al 5 (me encanta) tu preferencia para las siguientes cervezas comerciales. Si para alguna cerveza no tienes una opinión, escoge SR. [Victoria]': 'Vic',\n",
    "                      'Califica del 1 (no me gusta) al 5 (me encanta) tu preferencia para los siguientes estilos. Si para algún estilo no tienes una opinión, escoge SR [Pale Lager]': 'Pal_Lag',\n",
    "                      'Califica del 1 (no me gusta) al 5 (me encanta) tu preferencia para los siguientes estilos. Si para algún estilo no tienes una opinión, escoge SR [Pilsner]': 'Pil',\n",
    "                      'Califica del 1 (no me gusta) al 5 (me encanta) tu preferencia para los siguientes estilos. Si para algún estilo no tienes una opinión, escoge SR [Amber Lager]': 'Amb_Lag',\n",
    "                      'Califica del 1 (no me gusta) al 5 (me encanta) tu preferencia para los siguientes estilos. Si para algún estilo no tienes una opinión, escoge SR [Bock]': 'Boc',\n",
    "                      'Califica del 1 (no me gusta) al 5 (me encanta) tu preferencia para los siguientes estilos. Si para algún estilo no tienes una opinión, escoge SR [Dark Lager]': 'Dar_Lag',\n",
    "                      'Califica del 1 (no me gusta) al 5 (me encanta) tu preferencia para los siguientes estilos. Si para algún estilo no tienes una opinión, escoge SR [Wheat Beer]': 'Whe_Bee',\n",
    "                      'Califica del 1 (no me gusta) al 5 (me encanta) tu preferencia para los siguientes estilos. Si para algún estilo no tienes una opinión, escoge SR [Pale Ale]': 'Pal_Ale',\n",
    "                      'Califica del 1 (no me gusta) al 5 (me encanta) tu preferencia para los siguientes estilos. Si para algún estilo no tienes una opinión, escoge SR [Indian Pale Ale]': 'Ind_Pal_Ale',\n",
    "                      'Califica del 1 (no me gusta) al 5 (me encanta) tu preferencia para los siguientes estilos. Si para algún estilo no tienes una opinión, escoge SR [Strong Ale]': 'Str_Ale',\n",
    "                      'Califica del 1 (no me gusta) al 5 (me encanta) tu preferencia para los siguientes estilos. Si para algún estilo no tienes una opinión, escoge SR [Brown Ale]': 'Bro_Ale',\n",
    "                      'Califica del 1 (no me gusta) al 5 (me encanta) tu preferencia para los siguientes estilos. Si para algún estilo no tienes una opinión, escoge SR [Porter]': 'Por',\n",
    "                      'Califica del 1 (no me gusta) al 5 (me encanta) tu preferencia para los siguientes estilos. Si para algún estilo no tienes una opinión, escoge SR [Stout]': 'Sto'}"
   ]
  },
  {
   "cell_type": "code",
   "execution_count": 3,
   "metadata": {},
   "outputs": [],
   "source": [
    "answers_df = pd.read_csv(\"../Datasets/UTP.csv\")\n",
    "\n",
    "answers_df.rename(columns=answers_names_dict,\n",
    "                  inplace=True)\n",
    "\n",
    "answers_df.replace('SR', np.nan, inplace=True)"
   ]
  },
  {
   "cell_type": "code",
   "execution_count": 4,
   "metadata": {},
   "outputs": [
    {
     "name": "stderr",
     "output_type": "stream",
     "text": [
      "<ipython-input-4-048597e5d753>:14: FutureWarning: Dropping of nuisance columns in DataFrame reductions (with 'numeric_only=None') is deprecated; in a future version this will raise TypeError.  Select only valid columns before calling the reduction.\n",
      "  answers_df = answers_df.fillna(answers_df.median())\n"
     ]
    }
   ],
   "source": [
    "styles_null = []\n",
    "beers_null = []\n",
    "for i in range(len(answers_df.index)):\n",
    "    styles_null.append(answers_df.loc[i, list(lager_dict.values()) + list(ale_dict.values())].isnull().sum())\n",
    "    beers_null.append(answers_df.loc[i, list(beers_dict.values())].isnull().sum())\n",
    "\n",
    "answers_df['style_nulls'] = styles_null\n",
    "answers_df['beer_nulls'] = beers_null\n",
    "\n",
    "answers_df = answers_df[(answers_df.style_nulls <= 4) & (answers_df.beer_nulls <= 4)]\n",
    "answers_df.reset_index(drop=True, inplace=True)\n",
    "\n",
    "comercials = list(beers_dict.values())\n",
    "answers_df = answers_df.fillna(answers_df.median())"
   ]
  },
  {
   "cell_type": "code",
   "execution_count": 5,
   "metadata": {},
   "outputs": [],
   "source": [
    "def drunk_distances(form):\n",
    "    d_na = manhattan_distances([form], answers_df[comercials])\n",
    "    d_na = d_na.max() - d_na\n",
    "    A = answers_df[list(lager_dict.values()) + list(ale_dict.values())].to_numpy()\n",
    "    A = A.astype(float)\n",
    "    S_rec = np.dot(d_na, A)\n",
    "    S_rec = S_rec / np.sum(d_na)\n",
    "    return S_rec"
   ]
  },
  {
   "cell_type": "code",
   "execution_count": null,
   "metadata": {},
   "outputs": [],
   "source": [
    "def drink_team_rec(form):\n",
    "    d_na = manhattan_distances([form], answers_df[comercials])\n",
    "    top3 = list(d_na.argsort()[0][:5])\n",
    "    drink_team = answers_df.loc[top3, list(lager_dict.values()) + list(ale_dict.values())].to_numpy().astype(float)\n",
    "    rec = np.average(drink_team, axis=0)\n",
    "    return rec"
   ]
  },
  {
   "cell_type": "code",
   "execution_count": 28,
   "metadata": {},
   "outputs": [],
   "source": [
    "my_form_dict = {'Boh_Osc':5,\n",
    "                'Cor':1,\n",
    "                'Dos_Equ_Amb':4,\n",
    "                'Dos_Equ_Lag':3,\n",
    "                'Ind':3,\n",
    "                'Mod_Esp':2,\n",
    "                'Neg_Mod':4,\n",
    "                'Sol':1,\n",
    "                'Tec_Lig':1,\n",
    "                'Vic':3}\n",
    "my_form_values = list(my_form_dict.values())"
   ]
  },
  {
   "cell_type": "code",
   "execution_count": 29,
   "metadata": {},
   "outputs": [
    {
     "data": {
      "text/plain": [
       "array([3.08310249, 3.27700831, 3.42105263, 3.99445983, 2.97783934,\n",
       "       3.24930748, 3.40166205, 3.30747922, 3.35457064, 4.02216066])"
      ]
     },
     "execution_count": 29,
     "metadata": {},
     "output_type": "execute_result"
    }
   ],
   "source": [
    "S_rec = drunk_distances(my_form_values)\n",
    "S_rec[0]"
   ]
  },
  {
   "cell_type": "code",
   "execution_count": 30,
   "metadata": {},
   "outputs": [
    {
     "data": {
      "text/plain": [
       "array([3.6, 4. , 4. , 4.6, 3.4, 3.2, 3. , 3.6, 3.4, 4. ])"
      ]
     },
     "execution_count": 30,
     "metadata": {},
     "output_type": "execute_result"
    }
   ],
   "source": [
    "rec = drink_team_rec(my_form_values)\n",
    "rec"
   ]
  },
  {
   "cell_type": "code",
   "execution_count": 31,
   "metadata": {},
   "outputs": [],
   "source": [
    "Rec_df = pd.DataFrame()\n",
    "Rec_df['Estilos'] = list(lager_dict.keys()) + list(ale_dict.keys())\n",
    "Rec_df['drunk_distance'] = S_rec[0]\n",
    "Rec_df['drink_team_rec'] = rec"
   ]
  },
  {
   "cell_type": "code",
   "execution_count": 32,
   "metadata": {},
   "outputs": [
    {
     "data": {
      "text/html": [
       "<div>\n",
       "<style scoped>\n",
       "    .dataframe tbody tr th:only-of-type {\n",
       "        vertical-align: middle;\n",
       "    }\n",
       "\n",
       "    .dataframe tbody tr th {\n",
       "        vertical-align: top;\n",
       "    }\n",
       "\n",
       "    .dataframe thead th {\n",
       "        text-align: right;\n",
       "    }\n",
       "</style>\n",
       "<table border=\"1\" class=\"dataframe\">\n",
       "  <thead>\n",
       "    <tr style=\"text-align: right;\">\n",
       "      <th></th>\n",
       "      <th>Estilos</th>\n",
       "      <th>drunk_distance</th>\n",
       "      <th>drink_team_rec</th>\n",
       "    </tr>\n",
       "  </thead>\n",
       "  <tbody>\n",
       "    <tr>\n",
       "      <th>0</th>\n",
       "      <td>Pilsner</td>\n",
       "      <td>3.083102</td>\n",
       "      <td>3.6</td>\n",
       "    </tr>\n",
       "    <tr>\n",
       "      <th>1</th>\n",
       "      <td>Amber Lager</td>\n",
       "      <td>3.277008</td>\n",
       "      <td>4.0</td>\n",
       "    </tr>\n",
       "    <tr>\n",
       "      <th>2</th>\n",
       "      <td>Bock</td>\n",
       "      <td>3.421053</td>\n",
       "      <td>4.0</td>\n",
       "    </tr>\n",
       "    <tr>\n",
       "      <th>3</th>\n",
       "      <td>Dark Lager</td>\n",
       "      <td>3.994460</td>\n",
       "      <td>4.6</td>\n",
       "    </tr>\n",
       "    <tr>\n",
       "      <th>4</th>\n",
       "      <td>Wheat Beer</td>\n",
       "      <td>2.977839</td>\n",
       "      <td>3.4</td>\n",
       "    </tr>\n",
       "    <tr>\n",
       "      <th>5</th>\n",
       "      <td>Pale Ale</td>\n",
       "      <td>3.249307</td>\n",
       "      <td>3.2</td>\n",
       "    </tr>\n",
       "    <tr>\n",
       "      <th>6</th>\n",
       "      <td>Indian Pale Ale</td>\n",
       "      <td>3.401662</td>\n",
       "      <td>3.0</td>\n",
       "    </tr>\n",
       "    <tr>\n",
       "      <th>7</th>\n",
       "      <td>Strong Ale</td>\n",
       "      <td>3.307479</td>\n",
       "      <td>3.6</td>\n",
       "    </tr>\n",
       "    <tr>\n",
       "      <th>8</th>\n",
       "      <td>Brown Ale</td>\n",
       "      <td>3.354571</td>\n",
       "      <td>3.4</td>\n",
       "    </tr>\n",
       "    <tr>\n",
       "      <th>9</th>\n",
       "      <td>Stout</td>\n",
       "      <td>4.022161</td>\n",
       "      <td>4.0</td>\n",
       "    </tr>\n",
       "  </tbody>\n",
       "</table>\n",
       "</div>"
      ],
      "text/plain": [
       "           Estilos  drunk_distance  drink_team_rec\n",
       "0          Pilsner        3.083102             3.6\n",
       "1      Amber Lager        3.277008             4.0\n",
       "2             Bock        3.421053             4.0\n",
       "3       Dark Lager        3.994460             4.6\n",
       "4       Wheat Beer        2.977839             3.4\n",
       "5         Pale Ale        3.249307             3.2\n",
       "6  Indian Pale Ale        3.401662             3.0\n",
       "7       Strong Ale        3.307479             3.6\n",
       "8        Brown Ale        3.354571             3.4\n",
       "9            Stout        4.022161             4.0"
      ]
     },
     "execution_count": 32,
     "metadata": {},
     "output_type": "execute_result"
    }
   ],
   "source": [
    "Rec_df"
   ]
  }
 ],
 "metadata": {
  "kernelspec": {
   "display_name": "Python 3",
   "language": "python",
   "name": "python3"
  },
  "language_info": {
   "codemirror_mode": {
    "name": "ipython",
    "version": 3
   },
   "file_extension": ".py",
   "mimetype": "text/x-python",
   "name": "python",
   "nbconvert_exporter": "python",
   "pygments_lexer": "ipython3",
   "version": "3.8.3"
  }
 },
 "nbformat": 4,
 "nbformat_minor": 4
}
